{
 "cells": [
  {
   "cell_type": "code",
   "execution_count": 10,
   "metadata": {},
   "outputs": [],
   "source": [
    "import networkx as nx\n",
    "import matplotlib.pyplot as plt"
   ]
  },
  {
   "cell_type": "code",
   "execution_count": 11,
   "metadata": {},
   "outputs": [],
   "source": [
    "def generateRandomGraph(numberOfNodes, numberOfEdges):\n",
    "    randomGraph = nx.gnm_random_graph(numberOfNodes, numberOfEdges)\n",
    "\n",
    "    return randomGraph\n",
    "\n",
    "def plotDegreeDistribution(graph):\n",
    "    degrees = [graph.degree(n) for n in graph.nodes()]\n",
    "    degreeCount = {degree: degrees.count(degree) for degree in set(degrees)}\n",
    "\n",
    "    plt.figure(figsize=(10, 6))\n",
    "    plt.bar(degreeCount.keys(), degreeCount.values(), width=0.8, color='g')\n",
    "    plt.xlabel('Degree')\n",
    "    plt.ylabel('Frequency')\n",
    "    plt.title('Degree Distribution')\n",
    "    plt.show()"
   ]
  },
  {
   "cell_type": "code",
   "execution_count": 12,
   "metadata": {},
   "outputs": [
    {
     "data": {
      "image/png": "[encoded data removed]",
      "text/plain": [
       "<Figure size 1000x600 with 1 Axes>"
      ]
     },
     "metadata": {},
     "output_type": "display_data"
    }
   ],
   "source": [
    "# graph generation\n",
    "\n",
    "numberOfNodes = 50\n",
    "numberOfEdges = 100\n",
    "\n",
    "graph = generateRandomGraph(numberOfNodes, numberOfEdges)\n",
    "plotDegreeDistribution(graph)"
   ]
  },
  {
   "cell_type": "code",
   "execution_count": 13,
   "metadata": {},
   "outputs": [],
   "source": [
    "def calculateClusteringCoefficients(graph):\n",
    "    clusteringCoefficient = nx.clustering(graph)\n",
    "    return clusteringCoefficient"
   ]
  },
  {
   "cell_type": "code",
   "execution_count": 14,
   "metadata": {},
   "outputs": [
    {
     "name": "stdout",
     "output_type": "stream",
     "text": [
      "\n",
      "Clustering Coefficient for the first 20 nodes:\n",
      "Node 0: Clustering Coefficient = 0.10714285714285714\n",
      "Node 1: Clustering Coefficient = 0.16666666666666666\n",
      "Node 2: Clustering Coefficient = 0\n",
      "Node 3: Clustering Coefficient = 0.3333333333333333\n",
      "Node 4: Clustering Coefficient = 0.1\n",
      "Node 5: Clustering Coefficient = 0\n",
      "Node 6: Clustering Coefficient = 0.06666666666666667\n",
      "Node 7: Clustering Coefficient = 0\n",
      "Node 8: Clustering Coefficient = 0\n",
      "Node 9: Clustering Coefficient = 0\n",
      "Node 10: Clustering Coefficient = 0\n",
      "Node 11: Clustering Coefficient = 0.2\n",
      "Node 12: Clustering Coefficient = 0\n",
      "Node 13: Clustering Coefficient = 0.047619047619047616\n",
      "Node 14: Clustering Coefficient = 0.2\n",
      "Node 15: Clustering Coefficient = 0\n",
      "Node 16: Clustering Coefficient = 0.16666666666666666\n",
      "Node 17: Clustering Coefficient = 0.16666666666666666\n",
      "Node 18: Clustering Coefficient = 0\n",
      "Node 19: Clustering Coefficient = 0\n"
     ]
    }
   ],
   "source": [
    "clusteringCoeffs = calculateClusteringCoefficients(graph)\n",
    "print(\"\\nClustering Coefficient for the first 20 nodes:\")\n",
    "for node in list(clusteringCoeffs.keys())[:20]:\n",
    "    print(f'Node {node}: Clustering Coefficient = {clusteringCoeffs[node]}')"
   ]
  },
  {
   "cell_type": "code",
   "execution_count": 15,
   "metadata": {},
   "outputs": [],
   "source": [
    "def calculateEigenValueCentrality(graph): \n",
    "    eigenValueCentrality = nx.eigenvector_centrality(graph)\n",
    "    return eigenValueCentrality"
   ]
  },
  {
   "cell_type": "code",
   "execution_count": 16,
   "metadata": {},
   "outputs": [
    {
     "name": "stdout",
     "output_type": "stream",
     "text": [
      "\n",
      "Eigenvalue Centrality for the first 20 nodes:\n",
      "Node 0: Eigenvalue Centrality = 0.2200410919140675\n",
      "Node 1: Eigenvalue Centrality = 0.12270176524279712\n",
      "Node 2: Eigenvalue Centrality = 0.09277741937368054\n",
      "Node 3: Eigenvalue Centrality = 0.09674302966361514\n",
      "Node 4: Eigenvalue Centrality = 0.1441121122406693\n",
      "Node 5: Eigenvalue Centrality = 0.08206349346766276\n",
      "Node 6: Eigenvalue Centrality = 0.20478786827323137\n",
      "Node 7: Eigenvalue Centrality = 0.09627132584964439\n",
      "Node 8: Eigenvalue Centrality = 0.030592433472364955\n",
      "Node 9: Eigenvalue Centrality = 0.11051789559713877\n",
      "Node 10: Eigenvalue Centrality = 0.060704758292313886\n",
      "Node 11: Eigenvalue Centrality = 0.25776782013853183\n",
      "Node 12: Eigenvalue Centrality = 0.20758885466807947\n",
      "Node 13: Eigenvalue Centrality = 0.18487491401990003\n",
      "Node 14: Eigenvalue Centrality = 0.23139053414810865\n",
      "Node 15: Eigenvalue Centrality = 0.16687920258205086\n",
      "Node 16: Eigenvalue Centrality = 0.17236300829711967\n",
      "Node 17: Eigenvalue Centrality = 0.09316409115726364\n",
      "Node 18: Eigenvalue Centrality = 0.10769845322623234\n",
      "Node 19: Eigenvalue Centrality = 0.09218267502311367\n"
     ]
    }
   ],
   "source": [
    "eigenvalueCentrality = calculateEigenValueCentrality(graph)\n",
    "print(\"\\nEigenvalue Centrality for the first 20 nodes:\")\n",
    "for node in list(eigenvalueCentrality.keys())[:20]:\n",
    "    print(f'Node {node}: Eigenvalue Centrality = {eigenvalueCentrality[node]}')"
   ]
  },
  {
   "cell_type": "code",
   "execution_count": 17,
   "metadata": {},
   "outputs": [],
   "source": [
    "def calculateBetweennessCentrality(graph):\n",
    "    betweennessCentrality = nx.betweenness_centrality(graph)\n",
    "    return betweennessCentrality"
   ]
  },
  {
   "cell_type": "code",
   "execution_count": 18,
   "metadata": {},
   "outputs": [
    {
     "name": "stdout",
     "output_type": "stream",
     "text": [
      "\n",
      "Betweenness Centrality for the first 20 nodes:\n",
      "Node 0: Betweenness Centrality = 0.12838862998301773\n",
      "Node 1: Betweenness Centrality = 0.02225872672301244\n",
      "Node 2: Betweenness Centrality = 0.008451098693445631\n",
      "Node 3: Betweenness Centrality = 0.005200326884000355\n",
      "Node 4: Betweenness Centrality = 0.04098170112200724\n",
      "Node 5: Betweenness Centrality = 0.03585637718290779\n",
      "Node 6: Betweenness Centrality = 0.07503625909238154\n",
      "Node 7: Betweenness Centrality = 0.02863047996976568\n",
      "Node 8: Betweenness Centrality = 0.008582361516034984\n",
      "Node 9: Betweenness Centrality = 0.012200448361162644\n",
      "Node 10: Betweenness Centrality = 0.014956906283436893\n",
      "Node 11: Betweenness Centrality = 0.07180024246350777\n",
      "Node 12: Betweenness Centrality = 0.11190577421444768\n",
      "Node 13: Betweenness Centrality = 0.10836787456685414\n",
      "Node 14: Betweenness Centrality = 0.027777501693318014\n",
      "Node 15: Betweenness Centrality = 0.036125283446712016\n",
      "Node 16: Betweenness Centrality = 0.026985200645914937\n",
      "Node 17: Betweenness Centrality = 0.014015765036173194\n",
      "Node 18: Betweenness Centrality = 0.043700826290112\n",
      "Node 19: Betweenness Centrality = 0.04177295918367347\n"
     ]
    }
   ],
   "source": [
    "betweennessCentrality = calculateBetweennessCentrality(graph)\n",
    "print(\"\\nBetweenness Centrality for the first 20 nodes:\")\n",
    "for node in list(betweennessCentrality.keys())[:20]:\n",
    "    print(f'Node {node}: Betweenness Centrality = {betweennessCentrality[node]}')"
   ]
  },
  {
   "cell_type": "code",
   "execution_count": 19,
   "metadata": {},
   "outputs": [],
   "source": [
    "def calculateClosenessCentrality(graph):\n",
    "    closenessCentrality = nx.closeness_centrality(graph)\n",
    "    return closenessCentrality"
   ]
  },
  {
   "cell_type": "code",
   "execution_count": 20,
   "metadata": {},
   "outputs": [
    {
     "name": "stdout",
     "output_type": "stream",
     "text": [
      "\n",
      "Closeness Centrality for the first 20 nodes:\n",
      "Node 0: Closeness Centrality = 0.4224137931034483\n",
      "Node 1: Closeness Centrality = 0.35507246376811596\n",
      "Node 2: Closeness Centrality = 0.3333333333333333\n",
      "Node 3: Closeness Centrality = 0.3310810810810811\n",
      "Node 4: Closeness Centrality = 0.3769230769230769\n",
      "Node 5: Closeness Centrality = 0.35\n",
      "Node 6: Closeness Centrality = 0.4016393442622951\n",
      "Node 7: Closeness Centrality = 0.3602941176470588\n",
      "Node 8: Closeness Centrality = 0.30434782608695654\n",
      "Node 9: Closeness Centrality = 0.35766423357664234\n",
      "Node 10: Closeness Centrality = 0.32450331125827814\n",
      "Node 11: Closeness Centrality = 0.4336283185840708\n",
      "Node 12: Closeness Centrality = 0.4298245614035088\n",
      "Node 13: Closeness Centrality = 0.4117647058823529\n",
      "Node 14: Closeness Centrality = 0.3798449612403101\n",
      "Node 15: Closeness Centrality = 0.3951612903225806\n",
      "Node 16: Closeness Centrality = 0.392\n",
      "Node 17: Closeness Centrality = 0.3288590604026846\n",
      "Node 18: Closeness Centrality = 0.37404580152671757\n",
      "Node 19: Closeness Centrality = 0.34265734265734266\n"
     ]
    }
   ],
   "source": [
    "closenessCentrality = calculateClosenessCentrality(graph)\n",
    "print(\"\\nCloseness Centrality for the first 20 nodes:\")\n",
    "for node in list(closenessCentrality.keys())[:20]:\n",
    "    print(f'Node {node}: Closeness Centrality = {closenessCentrality[node]}')"
   ]
  }
 ],
 "metadata": {
  "kernelspec": {
   "display_name": "Python 3",
   "language": "python",
   "name": "python3"
  },
  "language_info": {
   "codemirror_mode": {
    "name": "ipython",
    "version": 3
   },
   "file_extension": ".py",
   "mimetype": "text/x-python",
   "name": "python",
   "nbconvert_exporter": "python",
   "pygments_lexer": "ipython3",
   "version": "3.12.3"
  },
  "orig_nbformat": 4
 },
 "nbformat": 4,
 "nbformat_minor": 2
}
