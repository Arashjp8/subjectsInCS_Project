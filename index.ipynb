{
 "cells": [
  {
   "cell_type": "code",
   "execution_count": 1,
   "metadata": {},
   "outputs": [
    {
     "data": {
      "image/png": "[encoded data removed]",
      "text/plain": [
       "<Figure size 1000x600 with 1 Axes>"
      ]
     },
     "metadata": {},
     "output_type": "display_data"
    },
    {
     "name": "stdout",
     "output_type": "stream",
     "text": [
      "\n",
      "Clustering Coefficient for the first 20 nodes:\n",
      "Node 0: Clustering Coefficient = 0\n",
      "Node 1: Clustering Coefficient = 0.16666666666666666\n",
      "Node 2: Clustering Coefficient = 0\n",
      "Node 3: Clustering Coefficient = 0.047619047619047616\n",
      "Node 4: Clustering Coefficient = 0.03571428571428571\n",
      "Node 5: Clustering Coefficient = 0.2\n",
      "Node 6: Clustering Coefficient = 0\n",
      "Node 7: Clustering Coefficient = 0.2\n",
      "Node 8: Clustering Coefficient = 0\n",
      "Node 9: Clustering Coefficient = 0\n",
      "Node 10: Clustering Coefficient = 0.13333333333333333\n",
      "Node 11: Clustering Coefficient = 0\n",
      "Node 12: Clustering Coefficient = 0\n",
      "Node 13: Clustering Coefficient = 0.16666666666666666\n",
      "Node 14: Clustering Coefficient = 0\n",
      "Node 15: Clustering Coefficient = 0\n",
      "Node 16: Clustering Coefficient = 0\n",
      "Node 17: Clustering Coefficient = 0\n",
      "Node 18: Clustering Coefficient = 0\n",
      "Node 19: Clustering Coefficient = 0\n",
      "\n",
      "Eigenvalue Centrality for the first 20 nodes:\n",
      "Node 0: Eigenvalue Centrality = 0.06240381670828935\n",
      "Node 1: Eigenvalue Centrality = 0.15657186779867668\n",
      "Node 2: Eigenvalue Centrality = 0.06323384887344766\n",
      "Node 3: Eigenvalue Centrality = 0.2645747012009385\n",
      "Node 4: Eigenvalue Centrality = 0.2554023685349921\n",
      "Node 5: Eigenvalue Centrality = 0.18468760725035188\n",
      "Node 6: Eigenvalue Centrality = 0.05717123879562039\n",
      "Node 7: Eigenvalue Centrality = 0.14746383291007384\n",
      "Node 8: Eigenvalue Centrality = 0.05624121521822196\n",
      "Node 9: Eigenvalue Centrality = 0.07546542966649161\n",
      "Node 10: Eigenvalue Centrality = 0.19490408588980426\n",
      "Node 11: Eigenvalue Centrality = 0.06497478882360086\n",
      "Node 12: Eigenvalue Centrality = 0.07557588772276104\n",
      "Node 13: Eigenvalue Centrality = 0.09095217027241675\n",
      "Node 14: Eigenvalue Centrality = 0.025038715677994972\n",
      "Node 15: Eigenvalue Centrality = 0.11567119284380442\n",
      "Node 16: Eigenvalue Centrality = 0.05203593030368162\n",
      "Node 17: Eigenvalue Centrality = 0.1803711506323126\n",
      "Node 18: Eigenvalue Centrality = 3.0811684017857026e-22\n",
      "Node 19: Eigenvalue Centrality = 0.11938555747160988\n"
     ]
    }
   ],
   "source": [
    "import networkx as nx\n",
    "import matplotlib.pyplot as plt\n",
    "\n",
    "def generateRandomGraph(numberOfNodes, numberOfEdges):\n",
    "    randomGraph = nx.gnm_random_graph(numberOfNodes, numberOfEdges)\n",
    "\n",
    "    return randomGraph\n",
    "\n",
    "def plotDegreeDistribution(graph):\n",
    "    degrees = [graph.degree(n) for n in graph.nodes()]\n",
    "    degreeCount = {degree: degrees.count(degree) for degree in set(degrees)}\n",
    "\n",
    "    plt.figure(figsize=(10, 6))\n",
    "    plt.bar(degreeCount.keys(), degreeCount.values(), width=0.8, color='g')\n",
    "    plt.xlabel('Degree')\n",
    "    plt.ylabel('Frequency')\n",
    "    plt.title('Degree Distribution')\n",
    "    plt.show()\n",
    "\n",
    "def calculateClusteringCoefficients(graph):\n",
    "    clusteringCoefficient = nx.clustering(graph)\n",
    "    return clusteringCoefficient\n",
    "\n",
    "def calculateEigenValueCentrality(graph): \n",
    "    eigenValueCentrality = nx.eigenvector_centrality(graph)\n",
    "    return eigenValueCentrality\n",
    "\n",
    "if __name__ == \"__main__\":\n",
    "    numberOfNodes = 50\n",
    "    numberOfEdges = 100\n",
    "\n",
    "    graph = generateRandomGraph(numberOfNodes, numberOfEdges)\n",
    "    plotDegreeDistribution(graph)\n",
    "\n",
    "    clusteringCoeffs = calculateClusteringCoefficients(graph)\n",
    "    print(\"\\nClustering Coefficient for the first 20 nodes:\")\n",
    "    for node in list(clusteringCoeffs.keys())[:20]:\n",
    "        print(f'Node {node}: Clustering Coefficient = {clusteringCoeffs[node]}')\n",
    "\n",
    "    eigenvalueCentrality = calculateEigenValueCentrality(graph)\n",
    "    print(\"\\nEigenvalue Centrality for the first 20 nodes:\")\n",
    "    for node in list(eigenvalueCentrality.keys())[:20]:\n",
    "        print(f'Node {node}: Eigenvalue Centrality = {eigenvalueCentrality[node]}')"
   ]
  },
  {
   "cell_type": "code",
   "execution_count": null,
   "metadata": {},
   "outputs": [],
   "source": []
  },
  {
   "cell_type": "code",
   "execution_count": null,
   "metadata": {},
   "outputs": [],
   "source": []
  }
 ],
 "metadata": {
  "kernelspec": {
   "display_name": "Python 3",
   "language": "python",
   "name": "python3"
  },
  "language_info": {
   "codemirror_mode": {
    "name": "ipython",
    "version": 3
   },
   "file_extension": ".py",
   "mimetype": "text/x-python",
   "name": "python",
   "nbconvert_exporter": "python",
   "pygments_lexer": "ipython3",
   "version": "3.12.3"
  },
  "orig_nbformat": 4
 },
 "nbformat": 4,
 "nbformat_minor": 2
}
